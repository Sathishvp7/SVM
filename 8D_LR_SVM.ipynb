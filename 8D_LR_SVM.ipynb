{
 "cells": [
  {
   "cell_type": "markdown",
   "metadata": {
    "colab_type": "text",
    "id": "86Tvnj5UblTy"
   },
   "source": [
    "## Task-D: Collinear features and their effect on linear models"
   ]
  },
  {
   "cell_type": "code",
   "execution_count": 1,
   "metadata": {
    "colab": {},
    "colab_type": "code",
    "id": "qn_eOn2EblT3"
   },
   "outputs": [],
   "source": [
    "%matplotlib inline\n",
    "import warnings\n",
    "warnings.filterwarnings(\"ignore\")\n",
    "import pandas as pd\n",
    "import numpy as np\n",
    "from sklearn.datasets import load_iris\n",
    "from sklearn.linear_model import SGDClassifier,LogisticRegression\n",
    "from sklearn.model_selection import GridSearchCV\n",
    "import seaborn as sns\n",
    "import matplotlib.pyplot as plt\n",
    "from sklearn.metrics import confusion_matrix\n",
    "from sklearn.svm import SVC"
   ]
  },
  {
   "cell_type": "code",
   "execution_count": 2,
   "metadata": {
    "colab": {},
    "colab_type": "code",
    "id": "VMoYWIayblUB"
   },
   "outputs": [],
   "source": [
    "data = pd.read_csv('task_d.csv')"
   ]
  },
  {
   "cell_type": "code",
   "execution_count": 3,
   "metadata": {
    "colab": {},
    "colab_type": "code",
    "id": "RfStXG4tblUI",
    "outputId": "ddf4eec6-7f53-4d28-914f-23133957d6d5"
   },
   "outputs": [
    {
     "data": {
      "text/html": [
       "<div>\n",
       "<style scoped>\n",
       "    .dataframe tbody tr th:only-of-type {\n",
       "        vertical-align: middle;\n",
       "    }\n",
       "\n",
       "    .dataframe tbody tr th {\n",
       "        vertical-align: top;\n",
       "    }\n",
       "\n",
       "    .dataframe thead th {\n",
       "        text-align: right;\n",
       "    }\n",
       "</style>\n",
       "<table border=\"1\" class=\"dataframe\">\n",
       "  <thead>\n",
       "    <tr style=\"text-align: right;\">\n",
       "      <th></th>\n",
       "      <th>x</th>\n",
       "      <th>y</th>\n",
       "      <th>z</th>\n",
       "      <th>x*x</th>\n",
       "      <th>2*y</th>\n",
       "      <th>2*z+3*x*x</th>\n",
       "      <th>w</th>\n",
       "      <th>target</th>\n",
       "    </tr>\n",
       "  </thead>\n",
       "  <tbody>\n",
       "    <tr>\n",
       "      <th>0</th>\n",
       "      <td>-0.581066</td>\n",
       "      <td>0.841837</td>\n",
       "      <td>-1.012978</td>\n",
       "      <td>-0.604025</td>\n",
       "      <td>0.841837</td>\n",
       "      <td>-0.665927</td>\n",
       "      <td>-0.536277</td>\n",
       "      <td>0</td>\n",
       "    </tr>\n",
       "    <tr>\n",
       "      <th>1</th>\n",
       "      <td>-0.894309</td>\n",
       "      <td>-0.207835</td>\n",
       "      <td>-1.012978</td>\n",
       "      <td>-0.883052</td>\n",
       "      <td>-0.207835</td>\n",
       "      <td>-0.917054</td>\n",
       "      <td>-0.522364</td>\n",
       "      <td>0</td>\n",
       "    </tr>\n",
       "    <tr>\n",
       "      <th>2</th>\n",
       "      <td>-1.207552</td>\n",
       "      <td>0.212034</td>\n",
       "      <td>-1.082312</td>\n",
       "      <td>-1.150918</td>\n",
       "      <td>0.212034</td>\n",
       "      <td>-1.166507</td>\n",
       "      <td>0.205738</td>\n",
       "      <td>0</td>\n",
       "    </tr>\n",
       "    <tr>\n",
       "      <th>3</th>\n",
       "      <td>-1.364174</td>\n",
       "      <td>0.002099</td>\n",
       "      <td>-0.943643</td>\n",
       "      <td>-1.280666</td>\n",
       "      <td>0.002099</td>\n",
       "      <td>-1.266540</td>\n",
       "      <td>-0.665720</td>\n",
       "      <td>0</td>\n",
       "    </tr>\n",
       "    <tr>\n",
       "      <th>4</th>\n",
       "      <td>-0.737687</td>\n",
       "      <td>1.051772</td>\n",
       "      <td>-1.012978</td>\n",
       "      <td>-0.744934</td>\n",
       "      <td>1.051772</td>\n",
       "      <td>-0.792746</td>\n",
       "      <td>-0.735054</td>\n",
       "      <td>0</td>\n",
       "    </tr>\n",
       "  </tbody>\n",
       "</table>\n",
       "</div>"
      ],
      "text/plain": [
       "          x         y         z       x*x       2*y  2*z+3*x*x         w  \\\n",
       "0 -0.581066  0.841837 -1.012978 -0.604025  0.841837  -0.665927 -0.536277   \n",
       "1 -0.894309 -0.207835 -1.012978 -0.883052 -0.207835  -0.917054 -0.522364   \n",
       "2 -1.207552  0.212034 -1.082312 -1.150918  0.212034  -1.166507  0.205738   \n",
       "3 -1.364174  0.002099 -0.943643 -1.280666  0.002099  -1.266540 -0.665720   \n",
       "4 -0.737687  1.051772 -1.012978 -0.744934  1.051772  -0.792746 -0.735054   \n",
       "\n",
       "   target  \n",
       "0       0  \n",
       "1       0  \n",
       "2       0  \n",
       "3       0  \n",
       "4       0  "
      ]
     },
     "execution_count": 3,
     "metadata": {},
     "output_type": "execute_result"
    }
   ],
   "source": [
    "data.head()"
   ]
  },
  {
   "cell_type": "code",
   "execution_count": 4,
   "metadata": {
    "colab": {},
    "colab_type": "code",
    "id": "JIIuomCkblUP"
   },
   "outputs": [],
   "source": [
    "X = data.drop(['target'], axis=1).values\n",
    "Y = data['target'].values"
   ]
  },
  {
   "cell_type": "markdown",
   "metadata": {
    "colab_type": "text",
    "id": "Ydm98u3EblUU"
   },
   "source": [
    "### Doing perturbation test to check the presence of collinearity  \n",
    "\n",
    "#### Task: 1 Logistic Regression\n",
    "<pre>\n",
    "\n",
    "\n",
    "1. <b>Finding the Correlation between the features</b>\n",
    "    a. check the correlation between the features\n",
    "    b. plot heat map of correlation matrix using seaborn heatmap\n",
    "2. <b>Finding the best model for the given data</b>\n",
    "    a. Train Logistic regression on data(X,Y) that we have created in the above cell\n",
    "    b. Find the best hyper prameter alpha with hyper parameter tuning using k-fold cross validation (grid search CV or         \n",
    "    random search CV make sure you choose the alpha in log space)\n",
    "    c. Creat a new Logistic regression with the best alpha\n",
    "    (search for how to get the best hyper parameter value), name the best model as 'best_model'\n",
    "    \n",
    "3. <b>Getting the weights with the original data</b>\n",
    "    a. train the 'best_model' with X, Y\n",
    "    b. Check the accuracy of the model 'best_model_accuracy'\n",
    "    c. Get the weights W using best_model.coef_\n",
    "\n",
    "4. <b>Modifying original data</b>\n",
    "    a. Add a noise(order of 10^-2) to each element of X \n",
    "    and get the new data set X' (X' = X + e)\n",
    "    b. Train the same 'best_model' with data (X', Y)\n",
    "    c. Check the accuracy of the model 'best_model_accuracy_edited'\n",
    "    d. Get the weights W' using best_model.coef_\n",
    "    \n",
    "5. <b> Checking deviations in metric and weights </b>\n",
    "    a. find the difference between 'best_model_accuracy_edited' and 'best_model_accuracy'\n",
    "    b. find the absolute change between each value of W and W' ==> |(W-W')|\n",
    "    c. print the top 4 features which have higher % change in weights \n",
    "    compare to the other feature\n",
    "\n",
    "</pre>\n",
    "\n",
    "#### Task: 2 Linear SVM\n",
    "\n",
    "<pre>\n",
    "1. Do the same steps (2, 3, 4, 5) we have done in the above task 1.\n",
    "</pre>\n",
    "\n",
    "<strong><font color='red'>Do write the observations based on the results you get from the deviations of weights in both Logistic Regression and linear SVM</font></strong>"
   ]
  },
  {
   "cell_type": "code",
   "execution_count": 5,
   "metadata": {
    "colab": {},
    "colab_type": "code",
    "id": "Lai8wXU1pmSb"
   },
   "outputs": [
    {
     "data": {
      "text/html": [
       "<div>\n",
       "<style scoped>\n",
       "    .dataframe tbody tr th:only-of-type {\n",
       "        vertical-align: middle;\n",
       "    }\n",
       "\n",
       "    .dataframe tbody tr th {\n",
       "        vertical-align: top;\n",
       "    }\n",
       "\n",
       "    .dataframe thead th {\n",
       "        text-align: right;\n",
       "    }\n",
       "</style>\n",
       "<table border=\"1\" class=\"dataframe\">\n",
       "  <thead>\n",
       "    <tr style=\"text-align: right;\">\n",
       "      <th></th>\n",
       "      <th>x</th>\n",
       "      <th>y</th>\n",
       "      <th>z</th>\n",
       "      <th>x*x</th>\n",
       "      <th>2*y</th>\n",
       "      <th>2*z+3*x*x</th>\n",
       "      <th>w</th>\n",
       "    </tr>\n",
       "  </thead>\n",
       "  <tbody>\n",
       "    <tr>\n",
       "      <th>x</th>\n",
       "      <td>1.000000</td>\n",
       "      <td>-0.205926</td>\n",
       "      <td>0.812458</td>\n",
       "      <td>0.997947</td>\n",
       "      <td>-0.205926</td>\n",
       "      <td>0.996252</td>\n",
       "      <td>0.583277</td>\n",
       "    </tr>\n",
       "    <tr>\n",
       "      <th>y</th>\n",
       "      <td>-0.205926</td>\n",
       "      <td>1.000000</td>\n",
       "      <td>-0.602663</td>\n",
       "      <td>-0.209289</td>\n",
       "      <td>1.000000</td>\n",
       "      <td>-0.261123</td>\n",
       "      <td>-0.401790</td>\n",
       "    </tr>\n",
       "    <tr>\n",
       "      <th>z</th>\n",
       "      <td>0.812458</td>\n",
       "      <td>-0.602663</td>\n",
       "      <td>1.000000</td>\n",
       "      <td>0.807137</td>\n",
       "      <td>-0.602663</td>\n",
       "      <td>0.847163</td>\n",
       "      <td>0.674486</td>\n",
       "    </tr>\n",
       "    <tr>\n",
       "      <th>x*x</th>\n",
       "      <td>0.997947</td>\n",
       "      <td>-0.209289</td>\n",
       "      <td>0.807137</td>\n",
       "      <td>1.000000</td>\n",
       "      <td>-0.209289</td>\n",
       "      <td>0.997457</td>\n",
       "      <td>0.583803</td>\n",
       "    </tr>\n",
       "    <tr>\n",
       "      <th>2*y</th>\n",
       "      <td>-0.205926</td>\n",
       "      <td>1.000000</td>\n",
       "      <td>-0.602663</td>\n",
       "      <td>-0.209289</td>\n",
       "      <td>1.000000</td>\n",
       "      <td>-0.261123</td>\n",
       "      <td>-0.401790</td>\n",
       "    </tr>\n",
       "    <tr>\n",
       "      <th>2*z+3*x*x</th>\n",
       "      <td>0.996252</td>\n",
       "      <td>-0.261123</td>\n",
       "      <td>0.847163</td>\n",
       "      <td>0.997457</td>\n",
       "      <td>-0.261123</td>\n",
       "      <td>1.000000</td>\n",
       "      <td>0.606860</td>\n",
       "    </tr>\n",
       "    <tr>\n",
       "      <th>w</th>\n",
       "      <td>0.583277</td>\n",
       "      <td>-0.401790</td>\n",
       "      <td>0.674486</td>\n",
       "      <td>0.583803</td>\n",
       "      <td>-0.401790</td>\n",
       "      <td>0.606860</td>\n",
       "      <td>1.000000</td>\n",
       "    </tr>\n",
       "  </tbody>\n",
       "</table>\n",
       "</div>"
      ],
      "text/plain": [
       "                  x         y         z       x*x       2*y  2*z+3*x*x  \\\n",
       "x          1.000000 -0.205926  0.812458  0.997947 -0.205926   0.996252   \n",
       "y         -0.205926  1.000000 -0.602663 -0.209289  1.000000  -0.261123   \n",
       "z          0.812458 -0.602663  1.000000  0.807137 -0.602663   0.847163   \n",
       "x*x        0.997947 -0.209289  0.807137  1.000000 -0.209289   0.997457   \n",
       "2*y       -0.205926  1.000000 -0.602663 -0.209289  1.000000  -0.261123   \n",
       "2*z+3*x*x  0.996252 -0.261123  0.847163  0.997457 -0.261123   1.000000   \n",
       "w          0.583277 -0.401790  0.674486  0.583803 -0.401790   0.606860   \n",
       "\n",
       "                  w  \n",
       "x          0.583277  \n",
       "y         -0.401790  \n",
       "z          0.674486  \n",
       "x*x        0.583803  \n",
       "2*y       -0.401790  \n",
       "2*z+3*x*x  0.606860  \n",
       "w          1.000000  "
      ]
     },
     "execution_count": 5,
     "metadata": {},
     "output_type": "execute_result"
    }
   ],
   "source": [
    "## Task 1 - Logistic regression\n",
    "\n",
    "#Task 1.1\n",
    "#Find Correlation between the feature\n",
    "corr = data.drop(['target'], axis=1).corr()\n",
    "corr"
   ]
  },
  {
   "cell_type": "code",
   "execution_count": 6,
   "metadata": {},
   "outputs": [
    {
     "data": {
      "text/plain": [
       "<matplotlib.axes._subplots.AxesSubplot at 0x22b072f7a08>"
      ]
     },
     "execution_count": 6,
     "metadata": {},
     "output_type": "execute_result"
    },
    {
     "data": {
      "image/png": "[encoded data removed]",
      "text/plain": [
       "<Figure size 432x288 with 2 Axes>"
      ]
     },
     "metadata": {
      "needs_background": "light"
     },
     "output_type": "display_data"
    }
   ],
   "source": [
    "sns.heatmap(corr,annot=True)"
   ]
  },
  {
   "cell_type": "markdown",
   "metadata": {},
   "source": [
    "<pre>\n",
    "<font color='Blue'><b>HeatMap Results</b></font>\n",
    "<strong>X highly correlated with x*x,z,2*z+3*x*x,w\t</strong>\n",
    "<strong>Y highly correlated with y*y\t</strong>"
   ]
  },
  {
   "cell_type": "code",
   "execution_count": 7,
   "metadata": {},
   "outputs": [],
   "source": [
    "#Task 1.2\n",
    "logistic = LogisticRegression()\n",
    "alpha_values = np.logspace(-1, 2, 20)\n",
    "params_logReg = {\n",
    "   'C':alpha_values\n",
    "\n",
    "}\n",
    "\n",
    "gridsearchcv_logistic = GridSearchCV(estimator=logistic,param_grid=params_logReg,cv=3,\n",
    "                                n_jobs=-1)"
   ]
  },
  {
   "cell_type": "code",
   "execution_count": 8,
   "metadata": {},
   "outputs": [
    {
     "data": {
      "text/plain": [
       "GridSearchCV(cv=3, error_score=nan,\n",
       "             estimator=LogisticRegression(C=1.0, class_weight=None, dual=False,\n",
       "                                          fit_intercept=True,\n",
       "                                          intercept_scaling=1, l1_ratio=None,\n",
       "                                          max_iter=100, multi_class='auto',\n",
       "                                          n_jobs=None, penalty='l2',\n",
       "                                          random_state=None, solver='lbfgs',\n",
       "                                          tol=0.0001, verbose=0,\n",
       "                                          warm_start=False),\n",
       "             iid='deprecated', n_jobs=-1,\n",
       "             param_grid={'C': array([  0.1       ,   0.14384499,   0.20691381,   0.29763514,\n",
       "         0.42813324,   0.61584821,   0.88586679,   1.27427499,\n",
       "         1.83298071,   2.6366509 ,   3.79269019,   5.45559478,\n",
       "         7.8475997 ,  11.28837892,  16.23776739,  23.35721469,\n",
       "        33.59818286,  48.32930239,  69.51927962, 100.        ])},\n",
       "             pre_dispatch='2*n_jobs', refit=True, return_train_score=False,\n",
       "             scoring=None, verbose=0)"
      ]
     },
     "execution_count": 8,
     "metadata": {},
     "output_type": "execute_result"
    }
   ],
   "source": [
    "gridsearchcv_logistic.fit(X,Y)"
   ]
  },
  {
   "cell_type": "code",
   "execution_count": 9,
   "metadata": {},
   "outputs": [
    {
     "data": {
      "text/plain": [
       "{'C': 0.1}"
      ]
     },
     "execution_count": 9,
     "metadata": {},
     "output_type": "execute_result"
    }
   ],
   "source": [
    "gridsearchcv_logistic.best_params_"
   ]
  },
  {
   "cell_type": "code",
   "execution_count": 10,
   "metadata": {},
   "outputs": [
    {
     "data": {
      "text/plain": [
       "LogisticRegression(C=0.1, class_weight=None, dual=False, fit_intercept=True,\n",
       "                   intercept_scaling=1, l1_ratio=None, max_iter=100,\n",
       "                   multi_class='auto', n_jobs=None, penalty='l2',\n",
       "                   random_state=None, solver='lbfgs', tol=0.0001, verbose=0,\n",
       "                   warm_start=False)"
      ]
     },
     "execution_count": 10,
     "metadata": {},
     "output_type": "execute_result"
    }
   ],
   "source": [
    "best_model = LogisticRegression(C=0.1)\n",
    "best_model.fit(X,Y)"
   ]
  },
  {
   "cell_type": "code",
   "execution_count": 11,
   "metadata": {},
   "outputs": [
    {
     "name": "stdout",
     "output_type": "stream",
     "text": [
      "Best Accuracy score  1.0\n",
      "Coefficient value \n",
      "           Coefficient\n",
      "x             0.413398\n",
      "y            -0.515531\n",
      "z             0.784972\n",
      "x*x           0.393928\n",
      "2*y          -0.515531\n",
      "2*z+3*x*x     0.449310\n",
      "w             0.346586\n"
     ]
    }
   ],
   "source": [
    "#Task 1.3\n",
    "best_model_accuracy = best_model.score(X,Y)\n",
    "coeff  = best_model.coef_\n",
    "print('Best Accuracy score ', best_model_accuracy)\n",
    "print('Coefficient value ')\n",
    "\n",
    "df_coeff =pd.DataFrame(data=coeff,columns=corr.columns).T\n",
    "df_coeff.rename(columns={0:'Coefficient'},inplace=True)\n",
    "print(df_coeff)"
   ]
  },
  {
   "cell_type": "code",
   "execution_count": 15,
   "metadata": {
    "scrolled": true
   },
   "outputs": [
    {
     "name": "stdout",
     "output_type": "stream",
     "text": [
      "Best Accuracy score  1.0\n",
      "Coefficient value \n",
      "           Coefficient\n",
      "x             0.413398\n",
      "y            -0.515531\n",
      "z             0.784972\n",
      "x*x           0.393928\n",
      "2*y          -0.515531\n",
      "2*z+3*x*x     0.449310\n",
      "w             0.346586\n"
     ]
    }
   ],
   "source": [
    "#Task 1.4 Modifying original data\n",
    "e = 10^-2\n",
    "X_1  = X+e\n",
    "new_X = pd.DataFrame(data=X_1,columns=corr.columns)\n",
    "best_model = LogisticRegression(C=0.1)\n",
    "best_model.fit(X_1,Y)\n",
    "\n",
    "best_model_accuracy_edited = best_model.score(X_1,Y)\n",
    "coeff_edited  = best_model.coef_\n",
    "print('Best Accuracy score ', best_model_accuracy_edited)\n",
    "print('Coefficient value ')\n",
    "\n",
    "df_coeff =pd.DataFrame(data=coeff,columns=corr.columns).T\n",
    "df_coeff.rename(columns={0:'Coefficient'},inplace=True)\n",
    "print(df_coeff)"
   ]
  },
  {
   "cell_type": "code",
   "execution_count": 17,
   "metadata": {
    "collapsed": true
   },
   "outputs": [
    {
     "data": {
      "text/html": [
       "<div>\n",
       "<style scoped>\n",
       "    .dataframe tbody tr th:only-of-type {\n",
       "        vertical-align: middle;\n",
       "    }\n",
       "\n",
       "    .dataframe tbody tr th {\n",
       "        vertical-align: top;\n",
       "    }\n",
       "\n",
       "    .dataframe thead th {\n",
       "        text-align: right;\n",
       "    }\n",
       "</style>\n",
       "<table border=\"1\" class=\"dataframe\">\n",
       "  <thead>\n",
       "    <tr style=\"text-align: right;\">\n",
       "      <th></th>\n",
       "      <th>x</th>\n",
       "      <th>y</th>\n",
       "      <th>z</th>\n",
       "      <th>x*x</th>\n",
       "      <th>2*y</th>\n",
       "      <th>2*z+3*x*x</th>\n",
       "      <th>w</th>\n",
       "    </tr>\n",
       "  </thead>\n",
       "  <tbody>\n",
       "    <tr>\n",
       "      <th>0</th>\n",
       "      <td>-12.581066</td>\n",
       "      <td>-11.158163</td>\n",
       "      <td>-13.012978</td>\n",
       "      <td>-12.604025</td>\n",
       "      <td>-11.158163</td>\n",
       "      <td>-12.665927</td>\n",
       "      <td>-12.536277</td>\n",
       "    </tr>\n",
       "    <tr>\n",
       "      <th>1</th>\n",
       "      <td>-12.894309</td>\n",
       "      <td>-12.207835</td>\n",
       "      <td>-13.012978</td>\n",
       "      <td>-12.883052</td>\n",
       "      <td>-12.207835</td>\n",
       "      <td>-12.917054</td>\n",
       "      <td>-12.522364</td>\n",
       "    </tr>\n",
       "    <tr>\n",
       "      <th>2</th>\n",
       "      <td>-13.207552</td>\n",
       "      <td>-11.787966</td>\n",
       "      <td>-13.082312</td>\n",
       "      <td>-13.150918</td>\n",
       "      <td>-11.787966</td>\n",
       "      <td>-13.166507</td>\n",
       "      <td>-11.794262</td>\n",
       "    </tr>\n",
       "    <tr>\n",
       "      <th>3</th>\n",
       "      <td>-13.364174</td>\n",
       "      <td>-11.997901</td>\n",
       "      <td>-12.943643</td>\n",
       "      <td>-13.280666</td>\n",
       "      <td>-11.997901</td>\n",
       "      <td>-13.266540</td>\n",
       "      <td>-12.665720</td>\n",
       "    </tr>\n",
       "    <tr>\n",
       "      <th>4</th>\n",
       "      <td>-12.737687</td>\n",
       "      <td>-10.948228</td>\n",
       "      <td>-13.012978</td>\n",
       "      <td>-12.744934</td>\n",
       "      <td>-10.948228</td>\n",
       "      <td>-12.792746</td>\n",
       "      <td>-12.735054</td>\n",
       "    </tr>\n",
       "  </tbody>\n",
       "</table>\n",
       "</div>"
      ],
      "text/plain": [
       "           x          y          z        x*x        2*y  2*z+3*x*x          w\n",
       "0 -12.581066 -11.158163 -13.012978 -12.604025 -11.158163 -12.665927 -12.536277\n",
       "1 -12.894309 -12.207835 -13.012978 -12.883052 -12.207835 -12.917054 -12.522364\n",
       "2 -13.207552 -11.787966 -13.082312 -13.150918 -11.787966 -13.166507 -11.794262\n",
       "3 -13.364174 -11.997901 -12.943643 -13.280666 -11.997901 -13.266540 -12.665720\n",
       "4 -12.737687 -10.948228 -13.012978 -12.744934 -10.948228 -12.792746 -12.735054"
      ]
     },
     "execution_count": 17,
     "metadata": {},
     "output_type": "execute_result"
    }
   ],
   "source": [
    "new_X.head()"
   ]
  },
  {
   "cell_type": "code",
   "execution_count": 19,
   "metadata": {
    "collapsed": true
   },
   "outputs": [
    {
     "data": {
      "text/plain": [
       "<matplotlib.axes._subplots.AxesSubplot at 0x22b07bfe548>"
      ]
     },
     "execution_count": 19,
     "metadata": {},
     "output_type": "execute_result"
    },
    {
     "data": {
      "image/png": "[encoded data removed]",
      "text/plain": [
       "<Figure size 432x288 with 2 Axes>"
      ]
     },
     "metadata": {
      "needs_background": "light"
     },
     "output_type": "display_data"
    }
   ],
   "source": [
    "sns.heatmap(new_X.corr(),annot=True)"
   ]
  },
  {
   "cell_type": "code",
   "execution_count": 20,
   "metadata": {},
   "outputs": [
    {
     "name": "stdout",
     "output_type": "stream",
     "text": [
      "difference between best_model_accuracy_edited and best_model_accuracy 0.0\n",
      "Absolute change between each value of W and W ==> |(W-W_edited)| is  [[1.79151290e-07 1.56177357e-06 2.07320916e-06 6.41658346e-07\n",
      "  1.56177357e-06 1.33175770e-06 2.55010118e-06]]\n"
     ]
    }
   ],
   "source": [
    "#Task 1.5 \n",
    "#a. find the difference between 'best_model_accuracy_edited' and 'best_model_accuracy'\n",
    "diff_bw_Acc_EditedAcc  = best_model_accuracy - best_model_accuracy_edited\n",
    "coeff_diff= abs(coeff  - coeff_edited)\n",
    "\n",
    "print('difference between best_model_accuracy_edited and best_model_accuracy',diff_bw_Acc_EditedAcc)\n",
    "print('Absolute change between each value of W and W ==> |(W-W_edited)| is ',coeff_diff)"
   ]
  },
  {
   "cell_type": "code",
   "execution_count": 21,
   "metadata": {},
   "outputs": [
    {
     "data": {
      "text/plain": [
       "array([[1.79151290e-07, 1.56177357e-06, 2.07320916e-06, 6.41658346e-07,\n",
       "        1.56177357e-06, 1.33175770e-06, 2.55010118e-06]])"
      ]
     },
     "execution_count": 21,
     "metadata": {},
     "output_type": "execute_result"
    }
   ],
   "source": [
    "coeff_diff"
   ]
  },
  {
   "cell_type": "code",
   "execution_count": 22,
   "metadata": {},
   "outputs": [
    {
     "name": "stdout",
     "output_type": "stream",
     "text": [
      "           Coefficient_diff\n",
      "x              1.791513e-07\n",
      "y              1.561774e-06\n",
      "z              2.073209e-06\n",
      "x*x            6.416583e-07\n",
      "2*y            1.561774e-06\n",
      "2*z+3*x*x      1.331758e-06\n",
      "w              2.550101e-06\n"
     ]
    }
   ],
   "source": [
    "df_coeff_higherchange =pd.DataFrame(data=coeff_diff,columns=corr.columns).T\n",
    "df_coeff_higherchange.rename(columns={0:'Coefficient_diff'},inplace=True)\n",
    "print(df_coeff_higherchange)"
   ]
  },
  {
   "cell_type": "code",
   "execution_count": 31,
   "metadata": {},
   "outputs": [
    {
     "data": {
      "text/html": [
       "<div>\n",
       "<style scoped>\n",
       "    .dataframe tbody tr th:only-of-type {\n",
       "        vertical-align: middle;\n",
       "    }\n",
       "\n",
       "    .dataframe tbody tr th {\n",
       "        vertical-align: top;\n",
       "    }\n",
       "\n",
       "    .dataframe thead th {\n",
       "        text-align: right;\n",
       "    }\n",
       "</style>\n",
       "<table border=\"1\" class=\"dataframe\">\n",
       "  <thead>\n",
       "    <tr style=\"text-align: right;\">\n",
       "      <th></th>\n",
       "      <th>Coefficient_diff</th>\n",
       "    </tr>\n",
       "  </thead>\n",
       "  <tbody>\n",
       "    <tr>\n",
       "      <th>w</th>\n",
       "      <td>0.000003</td>\n",
       "    </tr>\n",
       "    <tr>\n",
       "      <th>z</th>\n",
       "      <td>0.000002</td>\n",
       "    </tr>\n",
       "    <tr>\n",
       "      <th>y</th>\n",
       "      <td>0.000002</td>\n",
       "    </tr>\n",
       "    <tr>\n",
       "      <th>2*y</th>\n",
       "      <td>0.000002</td>\n",
       "    </tr>\n",
       "    <tr>\n",
       "      <th>2*z+3*x*x</th>\n",
       "      <td>0.000001</td>\n",
       "    </tr>\n",
       "  </tbody>\n",
       "</table>\n",
       "</div>"
      ],
      "text/plain": [
       "           Coefficient_diff\n",
       "w                  0.000003\n",
       "z                  0.000002\n",
       "y                  0.000002\n",
       "2*y                0.000002\n",
       "2*z+3*x*x          0.000001"
      ]
     },
     "execution_count": 31,
     "metadata": {},
     "output_type": "execute_result"
    }
   ],
   "source": [
    "df_coeff_higherchange.sort_values(by='Coefficient_diff',axis=0,ascending=False)[:5]"
   ]
  },
  {
   "cell_type": "markdown",
   "metadata": {},
   "source": [
    "### Adding noise , not impacted the weight the much."
   ]
  },
  {
   "cell_type": "markdown",
   "metadata": {},
   "source": [
    "### Task 2. SVM"
   ]
  },
  {
   "cell_type": "code",
   "execution_count": 32,
   "metadata": {},
   "outputs": [
    {
     "name": "stdout",
     "output_type": "stream",
     "text": [
      "Best Accuracy score  1.0\n",
      "Coefficient value \n",
      "           Coefficient\n",
      "x             0.206086\n",
      "y            -0.295112\n",
      "z             0.667505\n",
      "x*x           0.186201\n",
      "2*y          -0.295112\n",
      "2*z+3*x*x     0.248172\n",
      "w             0.096677\n",
      "Best Accuracy score  1.0\n",
      "Coefficient value \n",
      "           Coefficient\n",
      "x             0.206086\n",
      "y            -0.295112\n",
      "z             0.667505\n",
      "x*x           0.186201\n",
      "2*y          -0.295112\n",
      "2*z+3*x*x     0.248172\n",
      "w             0.096677\n",
      "difference between best_model_accuracy_edited and best_model_accuracy 0.0\n",
      "Absolute change between each value of W and W ==> |(W-W_edited)| is  [[2.60790197e-05 6.46749470e-04 3.12952705e-04 1.87272274e-05\n",
      "  6.46749470e-04 2.09287813e-05 5.57059935e-04]]\n",
      "           Coefficient_diff\n",
      "x                  0.000026\n",
      "y                  0.000647\n",
      "z                  0.000313\n",
      "x*x                0.000019\n",
      "2*y                0.000647\n",
      "2*z+3*x*x          0.000021\n",
      "w                  0.000557\n"
     ]
    },
    {
     "data": {
      "text/html": [
       "<div>\n",
       "<style scoped>\n",
       "    .dataframe tbody tr th:only-of-type {\n",
       "        vertical-align: middle;\n",
       "    }\n",
       "\n",
       "    .dataframe tbody tr th {\n",
       "        vertical-align: top;\n",
       "    }\n",
       "\n",
       "    .dataframe thead th {\n",
       "        text-align: right;\n",
       "    }\n",
       "</style>\n",
       "<table border=\"1\" class=\"dataframe\">\n",
       "  <thead>\n",
       "    <tr style=\"text-align: right;\">\n",
       "      <th></th>\n",
       "      <th>Coefficient_diff</th>\n",
       "    </tr>\n",
       "  </thead>\n",
       "  <tbody>\n",
       "    <tr>\n",
       "      <th>y</th>\n",
       "      <td>0.000647</td>\n",
       "    </tr>\n",
       "    <tr>\n",
       "      <th>2*y</th>\n",
       "      <td>0.000647</td>\n",
       "    </tr>\n",
       "    <tr>\n",
       "      <th>w</th>\n",
       "      <td>0.000557</td>\n",
       "    </tr>\n",
       "    <tr>\n",
       "      <th>z</th>\n",
       "      <td>0.000313</td>\n",
       "    </tr>\n",
       "    <tr>\n",
       "      <th>x</th>\n",
       "      <td>0.000026</td>\n",
       "    </tr>\n",
       "  </tbody>\n",
       "</table>\n",
       "</div>"
      ],
      "text/plain": [
       "     Coefficient_diff\n",
       "y            0.000647\n",
       "2*y          0.000647\n",
       "w            0.000557\n",
       "z            0.000313\n",
       "x            0.000026"
      ]
     },
     "execution_count": 32,
     "metadata": {},
     "output_type": "execute_result"
    }
   ],
   "source": [
    "#Task 2.2\n",
    "SVM = SVC(kernel='linear')\n",
    "alpha_values = np.logspace(-1, 2, 20)\n",
    "params_logReg = {\n",
    "   'C':alpha_values\n",
    "\n",
    "}\n",
    "\n",
    "gridsearchcv_SVM = GridSearchCV(estimator=SVM,param_grid=params_logReg,cv=3,\n",
    "                                n_jobs=-1)\n",
    "\n",
    "gridsearchcv_SVM.fit(X,Y)\n",
    "\n",
    "gridsearchcv_SVM.best_params_\n",
    "\n",
    "best_model = SVC(C=0.1,kernel='linear')\n",
    "best_model.fit(X,Y)\n",
    "\n",
    "#Task 2.3\n",
    "best_model_accuracy = best_model.score(X,Y)\n",
    "coeff  = best_model.coef_\n",
    "print('Best Accuracy score ', best_model_accuracy)\n",
    "print('Coefficient value ')\n",
    "\n",
    "df_coeff =pd.DataFrame(data=coeff,columns=corr.columns).T\n",
    "df_coeff.rename(columns={0:'Coefficient'},inplace=True)\n",
    "print(df_coeff)\n",
    "\n",
    "#Task 2.4 Modifying original data\n",
    "e = 10^-2\n",
    "X_1  = X+e\n",
    "best_model = SVC(C=0.1,kernel='linear')\n",
    "best_model.fit(X_1,Y)\n",
    "\n",
    "best_model_accuracy_edited = best_model.score(X_1,Y)\n",
    "coeff_edited  = best_model.coef_\n",
    "print('Best Accuracy score ', best_model_accuracy_edited)\n",
    "print('Coefficient value ')\n",
    "\n",
    "df_coeff =pd.DataFrame(data=coeff,columns=corr.columns).T\n",
    "df_coeff.rename(columns={0:'Coefficient'},inplace=True)\n",
    "print(df_coeff)\n",
    "\n",
    "#Task 2.5 \n",
    "#a. find the difference between 'best_model_accuracy_edited' and 'best_model_accuracy'\n",
    "diff_bw_Acc_EditedAcc  = best_model_accuracy - best_model_accuracy_edited\n",
    "coeff_diff= abs(coeff  - coeff_edited)\n",
    "\n",
    "print('difference between best_model_accuracy_edited and best_model_accuracy',diff_bw_Acc_EditedAcc)\n",
    "print('Absolute change between each value of W and W ==> |(W-W_edited)| is ',coeff_diff)\n",
    "\n",
    "coeff_diff\n",
    "\n",
    "df_coeff_higherchange =pd.DataFrame(data=coeff_diff,columns=corr.columns).T\n",
    "df_coeff_higherchange.rename(columns={0:'Coefficient_diff'},inplace=True)\n",
    "print(df_coeff_higherchange)\n",
    "\n",
    "df_coeff_higherchange.sort_values(by='Coefficient_diff',axis=0,ascending=False)[:5]"
   ]
  },
  {
   "cell_type": "markdown",
   "metadata": {},
   "source": [
    "### Compare to logistic adding noise which slightly weight is changed , but acuraccy doesn't impacted."
   ]
  },
  {
   "cell_type": "code",
   "execution_count": null,
   "metadata": {},
   "outputs": [],
   "source": []
  }
 ],
 "metadata": {
  "colab": {
   "name": "8D_LR_SVM.ipynb",
   "provenance": []
  },
  "kernelspec": {
   "display_name": "Python 3",
   "language": "python",
   "name": "python3"
  },
  "language_info": {
   "codemirror_mode": {
    "name": "ipython",
    "version": 3
   },
   "file_extension": ".py",
   "mimetype": "text/x-python",
   "name": "python",
   "nbconvert_exporter": "python",
   "pygments_lexer": "ipython3",
   "version": "3.7.6"
  }
 },
 "nbformat": 4,
 "nbformat_minor": 1
}
